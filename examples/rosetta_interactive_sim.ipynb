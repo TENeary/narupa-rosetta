{
 "cells": [
  {
   "cell_type": "markdown",
   "metadata": {},
   "source": [
    "# Running an interactive Rosetta Session with Narupa"
   ]
  },
  {
   "cell_type": "markdown",
   "metadata": {},
   "source": [
    "In this notebook we will go over the most fundamental steps in communicating and visualising Rosetta using Narupa.\n",
    "For this notebook you will need to have downloaded and installed Rosetta from source. \n",
    "For more information regarding this please see:\n",
    "    https://www.rosettacommons.org/\n",
    "    \n",
    "Additionally when compiling Rosetta for this purpose you will need to enable both the \"cx11threads\" and \"zeromq\" for the necassary executable to run.\n",
    "This can be done using the following command:\n",
    "    $ ./scons.py rosetta_interactive mode=release -j4 bin extras=zeromq,cxx11thread\n"
   ]
  },
  {
   "cell_type": "markdown",
   "metadata": {},
   "source": [
    "## Initialising the Rosetta Server"
   ]
  },
  {
   "cell_type": "markdown",
   "metadata": {},
   "source": [
    "First start by starting a Rosetta server. If you have built Rosetta from source this can be accomplished using the following bash command:\n",
    "    $ rosetta_interactive.cxx11threadzeromq.linuxgccrelease\n",
    "\n",
    "Please note: That the extension of the executable will change based on your operating system.\n",
    "\n",
    "By default rosetta_interactive uses the \"localhost\" address and 43234 port. You may need to alter these settings for your setup. Especially if you intend to run Rosetta and Narupa on seperate machines.\n"
   ]
  },
  {
   "cell_type": "markdown",
   "metadata": {},
   "source": [
    "### This notebook will assume the defaults wherever possible.\n"
   ]
  },
  {
   "cell_type": "markdown",
   "metadata": {},
   "source": [
    "## Starting up Narupa"
   ]
  },
  {
   "cell_type": "markdown",
   "metadata": {},
   "source": [
    "With the Rosetta server started we can now initialse the narupa server.\n",
    "For convenience, we will use the RosettaApplicationServer which contains all the necassary components for this tutorial.\n",
    "Specifically, this class contains a RosettaCommandService and a RosettaClient which will be used to communicate with Rosetta."
   ]
  },
  {
   "cell_type": "code",
   "execution_count": 1,
   "metadata": {},
   "outputs": [
    {
     "name": "stdout",
     "output_type": "stream",
     "text": [
      "Connecting to Rosetta server at: tcp://localhost:43234\n"
     ]
    }
   ],
   "source": [
    "from narupa.rosetta.server import RosettaApplicationServer\n",
    "narupa_server = RosettaApplicationServer.basic_server(\n",
    "    rosetta_address=\"localhost\", rosetta_port=43234 ) \n",
    "# Rosetta addres and port have been included for clarity"
   ]
  },
  {
   "cell_type": "markdown",
   "metadata": {},
   "source": [
    "The narupa_server operates by sending a set of KEY, DATA messages to the Rosetta server. \n",
    "The identity of the key dictates how Rosetta should processe the corresponding data.\n",
    "The RosettaApplicationServer is initialised with a small set of commands which are most commonly going to be used.\n",
    "Lets have a look at one of them:\n"
   ]
  },
  {
   "cell_type": "code",
   "execution_count": 2,
   "metadata": {},
   "outputs": [
    {
     "data": {
      "text/plain": [
       "\"\\n  Allows for message to be echo'd to server\\n  \""
      ]
     },
     "execution_count": 2,
     "metadata": {},
     "output_type": "execute_result"
    }
   ],
   "source": [
    "from narupa.rosetta.command_util import EchoMessage\n",
    "EchoMessage.__doc__"
   ]
  },
  {
   "cell_type": "markdown",
   "metadata": {},
   "source": [
    "All RosettaCommands are classes derived from a base RosettaCommand class.\n",
    "When creating new RosettaCommands you should inherit from this class and only alter the \".\\_execute\" function\n",
    "In the case of EchoMessage the function takes a string passed to it and sends it to the RosettaClient object and then waits for a reply from the server.\n"
   ]
  },
  {
   "cell_type": "markdown",
   "metadata": {},
   "source": [
    "# Making Requests"
   ]
  },
  {
   "cell_type": "markdown",
   "metadata": {},
   "source": [
    "At this point we will want to start up a NarupaClient to make some requests of our Rosetta server."
   ]
  },
  {
   "cell_type": "code",
   "execution_count": 3,
   "metadata": {},
   "outputs": [],
   "source": [
    "from narupa.core import NarupaClient\n",
    "client = NarupaClient.insecure_channel( \n",
    "    address=narupa_server.address, port=narupa_server.port )"
   ]
  },
  {
   "cell_type": "code",
   "execution_count": 4,
   "metadata": {},
   "outputs": [
    {
     "data": {
      "text/plain": [
       "{'ROS_echo_message': <narupa.command.command_info.CommandInfo at 0x7f1c8383b7d0>,\n",
       " 'ROS_close_server': <narupa.command.command_info.CommandInfo at 0x7f1c6bfce0d0>,\n",
       " 'ROS_send_pose': <narupa.command.command_info.CommandInfo at 0x7f1c6bfce690>,\n",
       " 'ROS_request_pose': <narupa.command.command_info.CommandInfo at 0x7f1c6bfce110>,\n",
       " 'ROS_request_pose_list': <narupa.command.command_info.CommandInfo at 0x7f1c6bfce710>,\n",
       " 'ROS_send_and_parse_xml': <narupa.command.command_info.CommandInfo at 0x7f1c6bfce750>}"
      ]
     },
     "execution_count": 4,
     "metadata": {},
     "output_type": "execute_result"
    }
   ],
   "source": [
    "client.update_available_commands()"
   ]
  },
  {
   "cell_type": "markdown",
   "metadata": {},
   "source": [
    "All Rosetta commands are prepended with the ROS_ to differentiate them from standard Narupa calls.\n",
    "Now lets do something interesting and have Rosetta pack and minimise a structure.\n",
    "First we need to send a structure to Rosetta so it can be stored server side. From there we can ask Rosetta to operate on our structure and request snapshots of the pose as it is being operated on."
   ]
  },
  {
   "cell_type": "code",
   "execution_count": 5,
   "metadata": {},
   "outputs": [
    {
     "ename": "_InactiveRpcError",
     "evalue": "<_InactiveRpcError of RPC that terminated with:\n\tstatus = StatusCode.UNKNOWN\n\tdetails = \"Exception calling application: execute() missing 1 required positional argument: 'client'\"\n\tdebug_error_string = \"{\"created\":\"@1592405654.971168735\",\"description\":\"Error received from peer ipv6:[::]:38801\",\"file\":\"src/core/lib/surface/call.cc\",\"file_line\":1056,\"grpc_message\":\"Exception calling application: execute() missing 1 required positional argument: 'client'\",\"grpc_status\":2}\"\n>",
     "output_type": "error",
     "traceback": [
      "\u001b[0;31m---------------------------------------------------------------------------\u001b[0m",
      "\u001b[0;31m_InactiveRpcError\u001b[0m                         Traceback (most recent call last)",
      "\u001b[0;32m<ipython-input-5-c168c66d7d08>\u001b[0m in \u001b[0;36m<module>\u001b[0;34m\u001b[0m\n\u001b[1;32m      3\u001b[0m \u001b[0mpdb\u001b[0m \u001b[0;34m=\u001b[0m \u001b[0;34m\"\"\u001b[0m\u001b[0;34m.\u001b[0m\u001b[0mjoin\u001b[0m\u001b[0;34m(\u001b[0m\u001b[0mpdb\u001b[0m\u001b[0;34m)\u001b[0m \u001b[0;31m# We need to convert our list into a str\u001b[0m\u001b[0;34m\u001b[0m\u001b[0;34m\u001b[0m\u001b[0m\n\u001b[1;32m      4\u001b[0m \u001b[0;34m\u001b[0m\u001b[0m\n\u001b[0;32m----> 5\u001b[0;31m \u001b[0mclient\u001b[0m\u001b[0;34m.\u001b[0m\u001b[0mrun_command\u001b[0m\u001b[0;34m(\u001b[0m \u001b[0;34m\"ROS_send_pose\"\u001b[0m\u001b[0;34m,\u001b[0m \u001b[0mpose_to_store\u001b[0m \u001b[0;34m=\u001b[0m \u001b[0mpdb\u001b[0m \u001b[0;34m)\u001b[0m\u001b[0;34m\u001b[0m\u001b[0;34m\u001b[0m\u001b[0m\n\u001b[0m",
      "\u001b[0;32m~/local/narupa-protocol/python-libraries/narupa-core/src/narupa/core/narupa_client.py\u001b[0m in \u001b[0;36mrun_command\u001b[0;34m(self, name, **arguments)\u001b[0m\n\u001b[1;32m     75\u001b[0m \u001b[0;34m\u001b[0m\u001b[0m\n\u001b[1;32m     76\u001b[0m         \u001b[0mmessage\u001b[0m \u001b[0;34m=\u001b[0m \u001b[0mCommandMessage\u001b[0m\u001b[0;34m(\u001b[0m\u001b[0mname\u001b[0m\u001b[0;34m=\u001b[0m\u001b[0mname\u001b[0m\u001b[0;34m,\u001b[0m \u001b[0marguments\u001b[0m\u001b[0;34m=\u001b[0m\u001b[0marguments_struct\u001b[0m\u001b[0;34m)\u001b[0m\u001b[0;34m\u001b[0m\u001b[0;34m\u001b[0m\u001b[0m\n\u001b[0;32m---> 77\u001b[0;31m         \u001b[0mresult_message\u001b[0m \u001b[0;34m=\u001b[0m \u001b[0mself\u001b[0m\u001b[0;34m.\u001b[0m\u001b[0m_command_stub\u001b[0m\u001b[0;34m.\u001b[0m\u001b[0mRunCommand\u001b[0m\u001b[0;34m(\u001b[0m\u001b[0mmessage\u001b[0m\u001b[0;34m)\u001b[0m\u001b[0;34m\u001b[0m\u001b[0;34m\u001b[0m\u001b[0m\n\u001b[0m\u001b[1;32m     78\u001b[0m         \u001b[0;32mreturn\u001b[0m \u001b[0mstruct_to_dict\u001b[0m\u001b[0;34m(\u001b[0m\u001b[0mresult_message\u001b[0m\u001b[0;34m.\u001b[0m\u001b[0mresult\u001b[0m\u001b[0;34m)\u001b[0m\u001b[0;34m\u001b[0m\u001b[0;34m\u001b[0m\u001b[0m\n\u001b[1;32m     79\u001b[0m \u001b[0;34m\u001b[0m\u001b[0m\n",
      "\u001b[0;32m~/anaconda3/envs/narupa/lib/python3.7/site-packages/grpc/_channel.py\u001b[0m in \u001b[0;36m__call__\u001b[0;34m(self, request, timeout, metadata, credentials, wait_for_ready, compression)\u001b[0m\n\u001b[1;32m    824\u001b[0m         state, call, = self._blocking(request, timeout, metadata, credentials,\n\u001b[1;32m    825\u001b[0m                                       wait_for_ready, compression)\n\u001b[0;32m--> 826\u001b[0;31m         \u001b[0;32mreturn\u001b[0m \u001b[0m_end_unary_response_blocking\u001b[0m\u001b[0;34m(\u001b[0m\u001b[0mstate\u001b[0m\u001b[0;34m,\u001b[0m \u001b[0mcall\u001b[0m\u001b[0;34m,\u001b[0m \u001b[0;32mFalse\u001b[0m\u001b[0;34m,\u001b[0m \u001b[0;32mNone\u001b[0m\u001b[0;34m)\u001b[0m\u001b[0;34m\u001b[0m\u001b[0;34m\u001b[0m\u001b[0m\n\u001b[0m\u001b[1;32m    827\u001b[0m \u001b[0;34m\u001b[0m\u001b[0m\n\u001b[1;32m    828\u001b[0m     def with_call(self,\n",
      "\u001b[0;32m~/anaconda3/envs/narupa/lib/python3.7/site-packages/grpc/_channel.py\u001b[0m in \u001b[0;36m_end_unary_response_blocking\u001b[0;34m(state, call, with_call, deadline)\u001b[0m\n\u001b[1;32m    727\u001b[0m             \u001b[0;32mreturn\u001b[0m \u001b[0mstate\u001b[0m\u001b[0;34m.\u001b[0m\u001b[0mresponse\u001b[0m\u001b[0;34m\u001b[0m\u001b[0;34m\u001b[0m\u001b[0m\n\u001b[1;32m    728\u001b[0m     \u001b[0;32melse\u001b[0m\u001b[0;34m:\u001b[0m\u001b[0;34m\u001b[0m\u001b[0;34m\u001b[0m\u001b[0m\n\u001b[0;32m--> 729\u001b[0;31m         \u001b[0;32mraise\u001b[0m \u001b[0m_InactiveRpcError\u001b[0m\u001b[0;34m(\u001b[0m\u001b[0mstate\u001b[0m\u001b[0;34m)\u001b[0m\u001b[0;34m\u001b[0m\u001b[0;34m\u001b[0m\u001b[0m\n\u001b[0m\u001b[1;32m    730\u001b[0m \u001b[0;34m\u001b[0m\u001b[0m\n\u001b[1;32m    731\u001b[0m \u001b[0;34m\u001b[0m\u001b[0m\n",
      "\u001b[0;31m_InactiveRpcError\u001b[0m: <_InactiveRpcError of RPC that terminated with:\n\tstatus = StatusCode.UNKNOWN\n\tdetails = \"Exception calling application: execute() missing 1 required positional argument: 'client'\"\n\tdebug_error_string = \"{\"created\":\"@1592405654.971168735\",\"description\":\"Error received from peer ipv6:[::]:38801\",\"file\":\"src/core/lib/surface/call.cc\",\"file_line\":1056,\"grpc_message\":\"Exception calling application: execute() missing 1 required positional argument: 'client'\",\"grpc_status\":2}\"\n>"
     ]
    }
   ],
   "source": [
    "with open( \"./resourses/1ubq.pdb\" , \"r\" ) as r:\n",
    "    pdb = r.readlines()\n",
    "pdb = \"\".join(pdb) # We need to convert our list into a str\n",
    "\n",
    "client.run_command( \"ROS/send_pose\", pose_to_store = pdb )"
   ]
  },
  {
   "cell_type": "markdown",
   "metadata": {},
   "source": [
    "From this we can see that the pdb we have given Rosetta has been stored under the alias: \"pose0\"."
   ]
  },
  {
   "cell_type": "markdown",
   "metadata": {},
   "source": [
    "To have Rosetta operate on a structure we need to provide it with a set of instructions.\n",
    "These are in the form of a RosettaScript, see the online documentation for more details on building these:\n",
    "    https://www.rosettacommons.org/docs/latest/scripting_documentation/RosettaScripts/RosettaScripts\n",
    "\n",
    "For this tutorial we will be using the scripts located in the ./resources folder."
   ]
  },
  {
   "cell_type": "code",
   "execution_count": null,
   "metadata": {},
   "outputs": [],
   "source": [
    "with open( \"./resourses/minimise.xml\", \"r\" ) as r:\n",
    "    xml = r.readlines()\n",
    "xml = \"\".join(xml)\n",
    "\n",
    "client.run_command( \"ROS/send_and_parse_xml\", xml=xml)\n",
    "\n",
    "# At this point Rosetta will have parsed the xml we have provided and is now operating on pose0.\n",
    "# While this is operating lets retrieve some midpoints to visualise.\n",
    "\n",
    "from time import sleep\n",
    "\n",
    "frames = [\"\"] * 40\n",
    "\n",
    "for ii in range(len(frames)):\n",
    "    try:\n",
    "        frame = client.run_command( \"ROS/request_pose\", pose_name=\"pose0\" )\n",
    "        frames[ii] = frame[\"pose_pdb\"]\n",
    "    except:\n",
    "        pass\n",
    "    sleep( 0.01 )\n",
    "\n",
    "# Time to remove empty frames\n",
    "frames = [ frame for frame in frames if frame != \"\" ]"
   ]
  },
  {
   "cell_type": "markdown",
   "metadata": {},
   "source": [
    "Now we will convert all of these midpoint pdbs to FrameData objects so they can be visualised.\n"
   ]
  },
  {
   "cell_type": "code",
   "execution_count": null,
   "metadata": {},
   "outputs": [],
   "source": [
    "from narupa.rosetta.pdb_util import convert_pdb_string_to_framedata\n",
    "\n",
    "all_framedata = [\"\"] * len(frames)\n",
    "for ii, frame in enumerate(frames):\n",
    "    all_framedata[ii] = convert_pdb_string_to_framedata( frame )\n"
   ]
  },
  {
   "cell_type": "code",
   "execution_count": null,
   "metadata": {},
   "outputs": [],
   "source": [
    "# To visualise the Rosetta data will we setup an loop to run through all of the frames we collected.\n",
    "from threading import RLock\n",
    "from concurrent import futures\n",
    "from time import sleep\n",
    "\n",
    "playback_fps = 15\n",
    "\n",
    "class TrajectoryPlayback:       \n",
    "    \"\"\"\n",
    "    Initialise playback, setting things up.\n",
    "    \"\"\"\n",
    "    # Get a pool of threads (just one) that we can run the play back on\n",
    "    def __init__(self):\n",
    "        self.threads = futures.ThreadPoolExecutor(max_workers=1)\n",
    "        self._run_task = None\n",
    "        self._cancelled = False\n",
    "        self._cancel_lock = RLock()\n",
    "        self.frame_index = 0\n",
    "        self.frames = all_framedata\n",
    "\n",
    "    @property \n",
    "    def is_running(self):\n",
    "        # Fancy logic that just checks whether or not we're playing the trajectory in the background\n",
    "        return self._run_task is not None and not (self._run_task.cancelled() or self._run_task.done())\n",
    "\n",
    "    def play(self):\n",
    "        \"\"\"\n",
    "        Plays the trajectory in the background.\n",
    "        \"\"\"\n",
    "        # First, we have to cancel any existing playback, and start a new one.\n",
    "        with self._cancel_lock:\n",
    "            self.cancel_playback(wait=True)\n",
    "        self.run_playback()\n",
    "        \n",
    "    def step(self):\n",
    "        \"\"\"\n",
    "        Take a single step of the trajectory and stop. \n",
    "        \"\"\"\n",
    "        # The lock here ensures only one person can cancel at a time. \n",
    "        with self._cancel_lock:\n",
    "            self.cancel_playback(wait=True)\n",
    "            self._step_one_frame()\n",
    "\n",
    "    def pause(self):\n",
    "        \"\"\"\n",
    "        Pause the playback, by cancelling any current playback.\n",
    "        \"\"\"\n",
    "        with self._cancel_lock:\n",
    "            self.cancel_playback(wait=True)\n",
    "\n",
    "    def run_playback(self, block=False):\n",
    "        \"\"\"\n",
    "        Runs the trajectory playback. If block is False, it will run on a background thread.\n",
    "        \"\"\"\n",
    "        if self.is_running:\n",
    "            raise RuntimeError(\"The trajectory is already playing on a thread!\")\n",
    "        if block:\n",
    "            self._run()\n",
    "        else:\n",
    "            self._run_task = self.threads.submit(self._run)\n",
    "    \n",
    "    def _run(self):\n",
    "        while not self._cancelled:\n",
    "            self._step_one_frame()\n",
    "            sleep( 1 / playback_fps) # Delay sending frames so we hit the desired FPS\n",
    "        self._cancelled = False\n",
    "            \n",
    "        \n",
    "    def _step_one_frame(self):\n",
    "        narupa_server.frame_publisher.send_frame(self.frame_index, self.frames[self.frame_index])\n",
    "        self.frame_index = (self.frame_index + 1) % len(self.frames)\n",
    "\n",
    "    def cancel_playback(self, wait=False):\n",
    "        \"\"\"\n",
    "        Cancel trajectory playback, if it's running. If wait is True, this method will wait until the playback stops \n",
    "        before returning.\n",
    "        \"\"\"\n",
    "        if self._run_task is None:\n",
    "            return\n",
    "        if self._cancelled:\n",
    "            return\n",
    "        \n",
    "        self._cancelled = True\n",
    "        if wait:\n",
    "            self._run_task.result()\n",
    "            self._cancelled = False\n",
    "\n",
    "    def reset(self):\n",
    "        self.frame_index = 0"
   ]
  },
  {
   "cell_type": "code",
   "execution_count": null,
   "metadata": {},
   "outputs": [],
   "source": [
    "trajectory_viewer = TrajectoryPlayback()"
   ]
  },
  {
   "cell_type": "code",
   "execution_count": null,
   "metadata": {},
   "outputs": [],
   "source": [
    "trajectory_viewer.run_playback()"
   ]
  },
  {
   "cell_type": "code",
   "execution_count": null,
   "metadata": {},
   "outputs": [],
   "source": [
    "trajectory_viewer.pause()"
   ]
  },
  {
   "cell_type": "code",
   "execution_count": null,
   "metadata": {},
   "outputs": [],
   "source": [
    "# You may cancel when ready...\n",
    "trajectory_viewer.cancel_playback()"
   ]
  },
  {
   "cell_type": "markdown",
   "metadata": {},
   "source": [
    "Now time to clean up. We can close the Rosetta server remotely using the following command, then we will close the Narupa server."
   ]
  },
  {
   "cell_type": "code",
   "execution_count": null,
   "metadata": {},
   "outputs": [],
   "source": [
    "try: # For some reason the call catches despite closing the server as intended...\n",
    "    client.run_command( \"ROS/close_server\" ) \n",
    "except:\n",
    "    pass\n",
    "    \n",
    "narupa_server.close()\n",
    "client.close()"
   ]
  }
 ],
 "metadata": {
  "kernelspec": {
   "display_name": "Python 3",
   "language": "python",
   "name": "python3"
  },
  "language_info": {
   "codemirror_mode": {
    "name": "ipython",
    "version": 3
   },
   "file_extension": ".py",
   "mimetype": "text/x-python",
   "name": "python",
   "nbconvert_exporter": "python",
   "pygments_lexer": "ipython3",
   "version": "3.7.6"
  }
 },
 "nbformat": 4,
 "nbformat_minor": 4
}
